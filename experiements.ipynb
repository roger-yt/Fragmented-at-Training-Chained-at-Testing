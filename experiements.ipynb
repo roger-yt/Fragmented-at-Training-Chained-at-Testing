{
 "cells": [
  {
   "cell_type": "markdown",
   "metadata": {},
   "source": [
    "## 0. Get Environment Ready"
   ]
  },
  {
   "cell_type": "code",
   "execution_count": null,
   "metadata": {},
   "outputs": [],
   "source": [
    "! pip install -r requirements.txt\n",
    "from IPython.display import Image"
   ]
  },
  {
   "cell_type": "markdown",
   "metadata": {},
   "source": [
    "## 1. The Performance of 3-layer 3-head GPT-2-like Transformers"
   ]
  },
  {
   "cell_type": "markdown",
   "metadata": {},
   "source": [
    "### 1.1 Training on FTCT with various causal depths and child chain lengths."
   ]
  },
  {
   "cell_type": "code",
   "execution_count": null,
   "metadata": {},
   "outputs": [],
   "source": [
    "! bash scripts/train_normal/train_d5.sh\n",
    "! bash scripts/train_normal/train_d8.sh\n",
    "! bash scripts/train_normal/train_d10.sh\n",
    "! bash scripts/train_normal/train_d13.sh\n",
    "! bash scripts/train_normal/train_d15.sh"
   ]
  },
  {
   "cell_type": "markdown",
   "metadata": {},
   "source": [
    "### 1.2 Zero and Few-shot Testing Performance (Fig 2 Left, Fig 3)"
   ]
  },
  {
   "cell_type": "code",
   "execution_count": null,
   "metadata": {},
   "outputs": [],
   "source": [
    "! bash scripts/draw/draw_normal_main.sh"
   ]
  },
  {
   "cell_type": "code",
   "execution_count": null,
   "metadata": {},
   "outputs": [],
   "source": [
    "Image(filename='fs_and_chain_len_normal.png') "
   ]
  },
  {
   "cell_type": "markdown",
   "metadata": {},
   "source": [
    "### 1.2 The Relationship between the Relative Knowledge Ratio and Model’s Performance (Fig 2 Right)"
   ]
  },
  {
   "cell_type": "code",
   "execution_count": null,
   "metadata": {},
   "outputs": [],
   "source": [
    "! bash scripts/draw/draw_normal_ratio.sh"
   ]
  },
  {
   "cell_type": "code",
   "execution_count": null,
   "metadata": {},
   "outputs": [],
   "source": [
    "Image(filename='ratio_normal.png') "
   ]
  },
  {
   "cell_type": "markdown",
   "metadata": {},
   "source": [
    "## 2. The Performance of Different Models"
   ]
  },
  {
   "cell_type": "markdown",
   "metadata": {},
   "source": [
    "### 2.1 Small Models (Table 1)"
   ]
  },
  {
   "cell_type": "code",
   "execution_count": null,
   "metadata": {},
   "outputs": [],
   "source": [
    "! bash scripts/train_simpler/train_small.sh\n",
    "! bash scripts/train_simpler/train_mlp.sh"
   ]
  },
  {
   "cell_type": "markdown",
   "metadata": {},
   "source": [
    "### 2.2 GPT2 Small (Fig 6, Fig 7)"
   ]
  },
  {
   "cell_type": "code",
   "execution_count": null,
   "metadata": {},
   "outputs": [],
   "source": [
    "! bash scripts/train_gpts/train_d5.sh\n",
    "! bash scripts/train_gpts/train_d8.sh\n",
    "! bash scripts/train_gpts/train_d10.sh\n",
    "! bash scripts/train_gpts/train_d13.sh\n",
    "! bash scripts/train_gpts/train_d15.sh"
   ]
  },
  {
   "cell_type": "code",
   "execution_count": null,
   "metadata": {},
   "outputs": [],
   "source": [
    "! bash scripts/draw/draw_gptsmall_main.sh\n",
    "! bash scripts/draw/draw_gptsmall_ratio.sh"
   ]
  },
  {
   "cell_type": "code",
   "execution_count": null,
   "metadata": {},
   "outputs": [],
   "source": [
    "Image(filename='fs_and_chain_len_gptsmall.png') "
   ]
  },
  {
   "cell_type": "code",
   "execution_count": null,
   "metadata": {},
   "outputs": [],
   "source": [
    "Image(filename='ratio_gptsmall.png') "
   ]
  },
  {
   "cell_type": "markdown",
   "metadata": {},
   "source": [
    "### 2.3 GPT2 Large (Fig 8, Fig 9)"
   ]
  },
  {
   "cell_type": "code",
   "execution_count": null,
   "metadata": {},
   "outputs": [],
   "source": [
    "! bash scripts/train_gptl/train_d5.sh\n",
    "! bash scripts/train_gptl/train_d8.sh\n",
    "! bash scripts/train_gptl/train_d10.sh\n",
    "! bash scripts/train_gptl/train_d13.sh\n",
    "! bash scripts/train_gptl/train_d15.sh"
   ]
  },
  {
   "cell_type": "code",
   "execution_count": null,
   "metadata": {},
   "outputs": [],
   "source": [
    "! bash scripts/draw/draw_gptlarge_main.sh\n",
    "! bash scripts/draw/draw_gptlarge_ratio.sh"
   ]
  },
  {
   "cell_type": "code",
   "execution_count": null,
   "metadata": {},
   "outputs": [],
   "source": [
    "Image(filename='fs_and_chain_len_gptlarge.png') "
   ]
  },
  {
   "cell_type": "code",
   "execution_count": null,
   "metadata": {},
   "outputs": [],
   "source": [
    "Image(filename='ratio_gptlarge.png') "
   ]
  },
  {
   "cell_type": "markdown",
   "metadata": {},
   "source": [
    "## 3. Attention Heatmap of Induction Head (Fig 11, Fig 13)"
   ]
  },
  {
   "cell_type": "code",
   "execution_count": null,
   "metadata": {},
   "outputs": [],
   "source": [
    "! bash scripts/train_normal/plot_d13.sh"
   ]
  },
  {
   "cell_type": "code",
   "execution_count": null,
   "metadata": {},
   "outputs": [],
   "source": [
    "dir_path=\"data_and_models/len13_width2_merge0/maxchildlen6_cl1_cu7_cd7_vocab52_envaln10_chainvaln50_lkpn0.0_lkpv0.0_addlen5_nearlen100_tl4_shot5_icl5000_mk20000/type0/outs_gpt2/layer3_head3_hidden720\"\n",
    "mk_path = f\"{dir_path}/plot_mk_epoch-1\"\n",
    "mk_0 = f\"{mk_path}/check_layer0.png\"\n",
    "mk_1 = f\"{mk_path}/check_layer1.png\"\n",
    "Image(filename=mk_0)"
   ]
  },
  {
   "cell_type": "code",
   "execution_count": null,
   "metadata": {},
   "outputs": [],
   "source": [
    "Image(filename=mk_1)"
   ]
  },
  {
   "cell_type": "code",
   "execution_count": null,
   "metadata": {},
   "outputs": [],
   "source": [
    "test_path = f\"{dir_path}/plot_test_epoch-1\"\n",
    "test_0 = f\"{test_path}/check_layer0.png\"\n",
    "test_1 = f\"{test_path}/check_layer1.png\"\n",
    "Image(test_0)"
   ]
  },
  {
   "cell_type": "code",
   "execution_count": null,
   "metadata": {},
   "outputs": [],
   "source": [
    "Image(test_1)"
   ]
  },
  {
   "cell_type": "markdown",
   "metadata": {},
   "source": [
    "## 4. Probing to validate the Attention Assignment (Table 3)"
   ]
  },
  {
   "cell_type": "code",
   "execution_count": null,
   "metadata": {},
   "outputs": [],
   "source": [
    "! bash scripts/train_normal/probe_d5.sh\n",
    "! bash scripts/train_normal/probe_d10.sh\n",
    "! bash scripts/train_normal/probe_d15.sh"
   ]
  }
 ],
 "metadata": {
  "fileId": "192886a6-7757-40c3-9397-5e7cb9f3aab4",
  "filePath": "/mnt/bn/videonasi18n/yutong/Fragmented-at-Training-Chained-at-Testing/experiements.ipynb",
  "kernelspec": {
   "display_name": "Python 3 (ipykernel)",
   "language": "python",
   "name": "python3"
  },
  "language_info": {
   "codemirror_mode": {
    "name": "ipython",
    "version": 3
   },
   "file_extension": ".py",
   "mimetype": "text/x-python",
   "name": "python",
   "nbconvert_exporter": "python",
   "pygments_lexer": "ipython3",
   "version": "3.11.2"
  }
 },
 "nbformat": 4,
 "nbformat_minor": 2
}
